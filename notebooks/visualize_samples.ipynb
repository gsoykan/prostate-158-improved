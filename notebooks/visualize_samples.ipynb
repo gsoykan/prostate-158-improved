{
 "cells": [
  {
   "cell_type": "code",
   "id": "initial_id",
   "metadata": {
    "collapsed": true,
    "ExecuteTime": {
     "end_time": "2024-05-24T09:28:42.639280Z",
     "start_time": "2024-05-24T09:28:41.251352Z"
    }
   },
   "source": "from src.models.heart_module import HeartLitModule",
   "execution_count": 1,
   "outputs": []
  },
  {
   "metadata": {
    "ExecuteTime": {
     "end_time": "2024-05-24T09:28:43.162961Z",
     "start_time": "2024-05-24T09:28:43.158213Z"
    }
   },
   "cell_type": "code",
   "source": "ckpt_path = \"/home/gsoykan/Desktop/ku/spring24_comp548_medical_imaging/hw3/unet_segmentation/logs/train/runs/2024-05-23_23-22-12/checkpoints/epoch_048.ckpt\"",
   "id": "cbe726229d285cdd",
   "execution_count": 2,
   "outputs": []
  },
  {
   "metadata": {
    "ExecuteTime": {
     "end_time": "2024-05-24T09:28:44.091470Z",
     "start_time": "2024-05-24T09:28:43.880048Z"
    }
   },
   "cell_type": "code",
   "source": [
    "model = HeartLitModule.load_from_checkpoint(ckpt_path)\n",
    "model.eval()"
   ],
   "id": "88cf65444add0c3e",
   "execution_count": 3,
   "outputs": []
  },
  {
   "metadata": {
    "ExecuteTime": {
     "end_time": "2024-05-24T09:28:44.811180Z",
     "start_time": "2024-05-24T09:28:44.806965Z"
    }
   },
   "cell_type": "code",
   "source": "from torchmetrics.functional.classification import binary_f1_score",
   "id": "5cd2f2ead6bc2a17",
   "execution_count": 4,
   "outputs": []
  },
  {
   "metadata": {
    "ExecuteTime": {
     "end_time": "2024-05-24T09:28:48.310273Z",
     "start_time": "2024-05-24T09:28:46.272077Z"
    }
   },
   "cell_type": "code",
   "source": [
    "import torch\n",
    "from tqdm import tqdm\n",
    "from src.data.heart_datamodule import HeartDataModule\n",
    "\n",
    "data_dir = \"/home/gsoykan/Desktop/ku/spring24_comp548_medical_imaging/hw3/unet_segmentation/data\"\n",
    "datamodule = HeartDataModule(\n",
    "    data_dir=data_dir)\n",
    "datamodule.setup()\n",
    "dataloader = datamodule.predict_dataloader()\n",
    "f_scores = []\n",
    "sample_ids = []\n",
    "preds = []\n",
    "with torch.inference_mode():\n",
    "    for batch in tqdm(dataloader):\n",
    "        batch = {k: v.to('cuda') for k, v in batch.items()}\n",
    "        img_ids = batch['img_id']\n",
    "        loss, logits, y = model.model_step(batch)\n",
    "        samplewise_f_scores = binary_f1_score(logits, y, multidim_average='samplewise')\n",
    "        f_scores.extend(samplewise_f_scores.cpu().numpy())\n",
    "        sample_ids.extend(img_ids.cpu().numpy())\n",
    "        preds.extend(torch.sigmoid(logits).detach().cpu().numpy())\n",
    "        del batch\n",
    "        del y"
   ],
   "id": "376966d1d20f5f50",
   "execution_count": 5,
   "outputs": []
  },
  {
   "metadata": {
    "ExecuteTime": {
     "end_time": "2024-05-24T09:28:48.880332Z",
     "start_time": "2024-05-24T09:28:48.877282Z"
    }
   },
   "cell_type": "code",
   "source": "inference_data = list(zip(sample_ids, f_scores, preds))",
   "id": "b39a8af9cd9d386e",
   "execution_count": 6,
   "outputs": []
  },
  {
   "metadata": {
    "ExecuteTime": {
     "end_time": "2024-05-24T09:28:49.438497Z",
     "start_time": "2024-05-24T09:28:49.433423Z"
    }
   },
   "cell_type": "code",
   "source": "sorted_data = sorted(inference_data, key=lambda x: x[1], reverse=True)",
   "id": "2c6750662309d653",
   "execution_count": 7,
   "outputs": []
  },
  {
   "metadata": {
    "ExecuteTime": {
     "end_time": "2024-05-24T09:28:49.845720Z",
     "start_time": "2024-05-24T09:28:49.842792Z"
    }
   },
   "cell_type": "code",
   "source": "len(sorted_data)",
   "id": "50e9b16d518635a8",
   "execution_count": 8,
   "outputs": []
  },
  {
   "metadata": {
    "ExecuteTime": {
     "end_time": "2024-05-24T09:28:51.246981Z",
     "start_time": "2024-05-24T09:28:51.242479Z"
    }
   },
   "cell_type": "code",
   "source": [
    "good_1, good_2 = sorted_data[0], sorted_data[1]\n",
    "acceptable_1, acceptable_2 = sorted_data[40], sorted_data[41]\n",
    "bad_1, bad_2 = sorted_data[-1], sorted_data[-2]"
   ],
   "id": "1277bd0abcecf886",
   "execution_count": 9,
   "outputs": []
  },
  {
   "metadata": {
    "ExecuteTime": {
     "end_time": "2024-05-24T09:35:21.420340Z",
     "start_time": "2024-05-24T09:35:19.572231Z"
    }
   },
   "cell_type": "code",
   "source": [
    "import os\n",
    "import cv2\n",
    "from matplotlib import pyplot as plt\n",
    "\n",
    "img_root = \"/home/gsoykan/Desktop/ku/spring24_comp548_medical_imaging/hw3/unet_segmentation/data/heart/images/ts\"\n",
    "gold_root = \"/home/gsoykan/Desktop/ku/spring24_comp548_medical_imaging/hw3/unet_segmentation/data/heart/golds\"\n",
    "\n",
    "for (sample_id, f_score, pred) in [good_1, good_2, acceptable_1, acceptable_2, bad_1, bad_2]:\n",
    "    major, minor = str(sample_id).split('00')\n",
    "    print(major, minor)\n",
    "    \n",
    "     # Visualization\n",
    "    fig, ax = plt.subplots(1, 3, figsize=(12, 6))\n",
    "\n",
    "    # Display the pred\n",
    "    ax[0].imshow(pred, cmap='gray')\n",
    "    ax[0].set_title(f'Prediction - F1: {f_score:.2f}')\n",
    "\n",
    "    # Display the mask\n",
    "    gold_path = os.path.join(gold_root, f'gold_{major}_Image_{minor}.png')\n",
    "    mask = cv2.imread(gold_path, cv2.IMREAD_GRAYSCALE)\n",
    "    ax[1].imshow(mask, cmap='gray')\n",
    "    ax[1].set_title('GT Mask')\n",
    "    \n",
    "    # Display the image\n",
    "    image_path = os.path.join(img_root, f'CT_{major}_Image_{minor}.jpg')\n",
    "    base_img = cv2.imread(image_path, cv2.IMREAD_GRAYSCALE)\n",
    "    ax[2].imshow(base_img, cmap='gray')\n",
    "    ax[2].set_title('Image')\n",
    "    \n",
    "    plt.savefig(f'{major}_{minor}.png')\n",
    "    plt.show()\n",
    "    "
   ],
   "id": "fa4ad8e86edb1384",
   "execution_count": 14,
   "outputs": []
  }
 ],
 "metadata": {
  "kernelspec": {
   "display_name": "Python 3",
   "language": "python",
   "name": "python3"
  },
  "language_info": {
   "codemirror_mode": {
    "name": "ipython",
    "version": 2
   },
   "file_extension": ".py",
   "mimetype": "text/x-python",
   "name": "python",
   "nbconvert_exporter": "python",
   "pygments_lexer": "ipython2",
   "version": "2.7.6"
  }
 },
 "nbformat": 4,
 "nbformat_minor": 5
}
